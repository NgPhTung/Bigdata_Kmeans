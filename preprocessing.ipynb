{
  "cells": [
    {
      "cell_type": "markdown",
      "metadata": {
        "id": "sA4RfNrXsH4U"
      },
      "source": [
        "# Import thư viện"
      ]
    },
    {
      "cell_type": "code",
      "execution_count": 2,
      "metadata": {
        "id": "2InQsuGGl4Vs"
      },
      "outputs": [],
      "source": [
        "from pyspark.sql import SparkSession\n",
        "from pyspark.sql.functions import col, when, mean, stddev, lit\n",
        "import numpy"
      ]
    },
    {
      "cell_type": "code",
      "execution_count": 3,
      "metadata": {
        "id": "gQsTG9ajl-gM"
      },
      "outputs": [],
      "source": [
        "spark = SparkSession.builder.appName(\"Customer_Segmentation\").getOrCreate()"
      ]
    },
    {
      "cell_type": "markdown",
      "metadata": {
        "id": "XdZhMwucsMWo"
      },
      "source": [
        "# Load data"
      ]
    },
    {
      "cell_type": "code",
      "execution_count": 29,
      "metadata": {
        "id": "9y9OBD8mmVjM"
      },
      "outputs": [],
      "source": [
        "df_train = spark.read.format(\"csv\").option(\"header\", \"true\").option(\"inferSchema\", \"true\").load(\"/content/Train.csv\")\n",
        "df_test = spark.read.format(\"csv\").option(\"header\", \"true\").option(\"inferSchema\", \"true\").load(\"/content/Test.csv\")\n",
        "df_train = df_train.drop(\"Segmentation\")\n",
        "df_train = df_train.drop(\"Var_1\")\n",
        "df_test = df_test.drop(\"Var_1\")"
      ]
    },
    {
      "cell_type": "code",
      "execution_count": 30,
      "metadata": {
        "id": "5Jc0cist40Bn"
      },
      "outputs": [],
      "source": [
        "# Gom hai DataFrame lại với nhau\n",
        "df = df_train.union(df_test)"
      ]
    },
    {
      "cell_type": "markdown",
      "metadata": {
        "id": "VKxjy04boEgO"
      },
      "source": [
        "Hàm \"explain()\" dùng để hiển thị kế hoạch thực thi các phép biến đổi và thực hiện trên DataFrame.\n",
        "\n",
        "Nó sẽ cung cấp các thông tin:\n",
        "\n",
        "\n",
        "*   Định dạng dữ liệu được đọc (.csv).\n",
        "*   Chỉ số ID của các cột (cột \"ID\" có ID = 17; cột \"Gender\" -> 18; ....; cột \"Segmentation\" -> 27).\n",
        "*   Batched = False => dữ liệu đọc theo từng dòng thay vì đọc một khối dữ liệu lớn.\n",
        "*   DataFilters: [] => rỗng cho thấy ko có áp dụng **bộ lọc dữ liệu** nào được áp dụng.\n",
        "*   Location: đường dẫn là \"/content/Train\"\n",
        "*   PartitionFilters: [] => rỗng cho thế không có **bộ lọc phân vùng** nào được áp dụng.\n",
        "*   PushedFilters: [] => rỗng cho thấy không có **bộ lọc quét tệp** nào được áp dụng.\n",
        "*   ReadSchema: Schema của dữ liệu bao gồm tên cột và kiểu dữ liệu của mỗi cột"
      ]
    },
    {
      "cell_type": "code",
      "execution_count": 31,
      "metadata": {
        "colab": {
          "base_uri": "https://localhost:8080/"
        },
        "id": "gbGD18z0v0MK",
        "outputId": "3ba02fb4-3df2-4445-c1f9-b6d0addc5bb1"
      },
      "outputs": [
        {
          "name": "stdout",
          "output_type": "stream",
          "text": [
            "root\n",
            " |-- ID: integer (nullable = true)\n",
            " |-- Gender: string (nullable = true)\n",
            " |-- Ever_Married: string (nullable = true)\n",
            " |-- Age: integer (nullable = true)\n",
            " |-- Graduated: string (nullable = true)\n",
            " |-- Profession: string (nullable = true)\n",
            " |-- Work_Experience: double (nullable = true)\n",
            " |-- Spending_Score: string (nullable = true)\n",
            " |-- Family_Size: double (nullable = true)\n",
            "\n"
          ]
        }
      ],
      "source": [
        "df.printSchema()"
      ]
    },
    {
      "cell_type": "code",
      "execution_count": 32,
      "metadata": {
        "colab": {
          "base_uri": "https://localhost:8080/"
        },
        "id": "WsdbGv5NnR6Z",
        "outputId": "a0288ce6-adf4-421e-8d04-74fdf9d81a66"
      },
      "outputs": [
        {
          "name": "stdout",
          "output_type": "stream",
          "text": [
            "== Physical Plan ==\n",
            "Union\n",
            ":- FileScan csv [ID#706,Gender#707,Ever_Married#708,Age#709,Graduated#710,Profession#711,Work_Experience#712,Spending_Score#713,Family_Size#714] Batched: false, DataFilters: [], Format: CSV, Location: InMemoryFileIndex(1 paths)[file:/content/Train.csv], PartitionFilters: [], PushedFilters: [], ReadSchema: struct<ID:int,Gender:string,Ever_Married:string,Age:int,Graduated:string,Profession:string,Work_E...\n",
            "+- FileScan csv [ID#745,Gender#746,Ever_Married#747,Age#748,Graduated#749,Profession#750,Work_Experience#751,Spending_Score#752,Family_Size#753] Batched: false, DataFilters: [], Format: CSV, Location: InMemoryFileIndex(1 paths)[file:/content/Test.csv], PartitionFilters: [], PushedFilters: [], ReadSchema: struct<ID:int,Gender:string,Ever_Married:string,Age:int,Graduated:string,Profession:string,Work_E...\n",
            "\n",
            "\n"
          ]
        }
      ],
      "source": [
        "df.explain()"
      ]
    },
    {
      "cell_type": "code",
      "execution_count": 33,
      "metadata": {
        "colab": {
          "base_uri": "https://localhost:8080/"
        },
        "id": "sPW3jXc9sxP7",
        "outputId": "03fc4dea-8a56-41e8-ddbc-6e9e8c95dd0f"
      },
      "outputs": [
        {
          "name": "stdout",
          "output_type": "stream",
          "text": [
            "+------+------+------------+---+---------+-------------+---------------+--------------+-----------+\n",
            "|    ID|Gender|Ever_Married|Age|Graduated|   Profession|Work_Experience|Spending_Score|Family_Size|\n",
            "+------+------+------------+---+---------+-------------+---------------+--------------+-----------+\n",
            "|462809|  Male|          No| 22|       No|   Healthcare|            1.0|           Low|        4.0|\n",
            "|462643|Female|         Yes| 38|      Yes|     Engineer|           NULL|       Average|        3.0|\n",
            "|466315|Female|         Yes| 67|      Yes|     Engineer|            1.0|           Low|        1.0|\n",
            "|461735|  Male|         Yes| 67|      Yes|       Lawyer|            0.0|          High|        2.0|\n",
            "|462669|Female|         Yes| 40|      Yes|Entertainment|           NULL|          High|        6.0|\n",
            "|461319|  Male|         Yes| 56|       No|       Artist|            0.0|       Average|        2.0|\n",
            "|460156|  Male|          No| 32|      Yes|   Healthcare|            1.0|           Low|        3.0|\n",
            "|464347|Female|          No| 33|      Yes|   Healthcare|            1.0|           Low|        3.0|\n",
            "|465015|Female|         Yes| 61|      Yes|     Engineer|            0.0|           Low|        3.0|\n",
            "|465176|Female|         Yes| 55|      Yes|       Artist|            1.0|       Average|        4.0|\n",
            "|464041|Female|          No| 26|      Yes|     Engineer|            1.0|           Low|        3.0|\n",
            "|464942|  Male|          No| 19|       No|   Healthcare|            4.0|           Low|        4.0|\n",
            "|461230|Female|          No| 19|       No|    Executive|            0.0|           Low|       NULL|\n",
            "|459573|  Male|         Yes| 70|       No|       Lawyer|           NULL|           Low|        1.0|\n",
            "|460849|Female|         Yes| 58|       No|       Doctor|            0.0|           Low|        1.0|\n",
            "|460563|Female|          No| 41|       No|   Healthcare|            1.0|           Low|        2.0|\n",
            "|466865|Female|          No| 32|       No|    Homemaker|            9.0|           Low|        5.0|\n",
            "|461644|  Male|          No| 31|       No|   Healthcare|            1.0|           Low|        6.0|\n",
            "|466772|  Male|         Yes| 58|      Yes|Entertainment|            1.0|       Average|        4.0|\n",
            "|464291|Female|         Yes| 79|      Yes|       Artist|            0.0|          High|        1.0|\n",
            "+------+------+------------+---+---------+-------------+---------------+--------------+-----------+\n",
            "only showing top 20 rows\n",
            "\n"
          ]
        }
      ],
      "source": [
        "df.show()"
      ]
    },
    {
      "cell_type": "code",
      "execution_count": 34,
      "metadata": {
        "colab": {
          "base_uri": "https://localhost:8080/"
        },
        "id": "mZYrPXw7vMok",
        "outputId": "182a46ef-170b-4a43-faa7-d7042ccdcedb"
      },
      "outputs": [
        {
          "name": "stdout",
          "output_type": "stream",
          "text": [
            "DataFrame  (10695, 9)\n"
          ]
        }
      ],
      "source": [
        "print(\"DataFrame \", (df.count(), len(df.columns)))"
      ]
    },
    {
      "cell_type": "code",
      "execution_count": 35,
      "metadata": {
        "colab": {
          "base_uri": "https://localhost:8080/"
        },
        "id": "inRK-IxF3pVt",
        "outputId": "c4486bbe-401b-4d40-aa7a-b88c94d8b68c"
      },
      "outputs": [
        {
          "name": "stdout",
          "output_type": "stream",
          "text": [
            "Thống kê giá trị Null trong tập DataFrame:\n",
            "--------------------\n",
            " - 'Ever_Married': 190 giá trị Null.\n",
            " - 'Graduated': 102 giá trị Null.\n",
            " - 'Profession': 162 giá trị Null.\n",
            " - 'Work_Experience': 1098 giá trị Null.\n",
            " - 'Family_Size': 448 giá trị Null.\n"
          ]
        }
      ],
      "source": [
        "# Tạo một danh sách chứa các tên cột và số lượng giá trị bị thiếu tương ứng\n",
        "missing_values = []\n",
        "\n",
        "# Lặp qua các cột trong DataFrame\n",
        "for col in df.columns:\n",
        "    # Tính tổng số giá trị bị thiếu trong cột và thêm vào danh sách\n",
        "    missing_count = df.filter(df[col].isNull()).count()\n",
        "    missing_values.append((col, missing_count))\n",
        "# Hiển thị kết quả\n",
        "print(\"Thống kê giá trị Null trong tập DataFrame:\\n\" + \"-\"*20)\n",
        "for col, missing_count in missing_values:\n",
        "    if missing_count != 0:\n",
        "        print(f\" - '{col}': {missing_count} giá trị Null.\")\n"
      ]
    },
    {
      "cell_type": "markdown",
      "metadata": {
        "id": "B2DJPOtK52JM"
      },
      "source": [
        "Nhận xét: Có tổng cộng 5 cột bị thiếu dữ liệu trong cả tập train và tập test đều là: Ever_Married, Graduated, Profession, Work_Experience, Family_Size."
      ]
    },
    {
      "cell_type": "markdown",
      "metadata": {
        "id": "4KWV0-EbFxpW"
      },
      "source": [
        "# Một số Hàm"
      ]
    },
    {
      "cell_type": "markdown",
      "metadata": {
        "id": "tdx07nYOF3dt"
      },
      "source": [
        "## Hàm tính mode() trong cột"
      ]
    },
    {
      "cell_type": "code",
      "execution_count": 36,
      "metadata": {
        "id": "F3GnMCS4F76G"
      },
      "outputs": [],
      "source": [
        "# Hàm tính giá trị xuất hiện nhiều nhất trong cột\n",
        "def calculate_mode(df, column_name):\n",
        "    mode_df = (df.groupBy(column_name)  # gom nhóm lại theo cột\n",
        "               .count()                 # đếm số lần xuất hiện của mỗi giá trị trong cột\n",
        "               .orderBy(\"count\", ascending=False)   # sắp xếp theo thứ tự giảm dần về tần suất xuất hiện\n",
        "               .first())               # Lấy phần tử đầu tiên, tức nó là giá trị xuất hiện nhiều nhất trong cột\n",
        "    return mode_df[column_name]"
      ]
    },
    {
      "cell_type": "markdown",
      "metadata": {
        "id": "Zm1duE4BGCcy"
      },
      "source": [
        "## Hàm tính mean() trong cột"
      ]
    },
    {
      "cell_type": "code",
      "execution_count": 37,
      "metadata": {
        "id": "pM6yR-aZF9ru"
      },
      "outputs": [],
      "source": [
        "# Hàm tính giá trị trung bình trong cột\n",
        "def calculate_mean(df, column_name):\n",
        "    mean_value = df.select(mean(column_name)).collect()[0][0]\n",
        "    return mean_value"
      ]
    },
    {
      "cell_type": "markdown",
      "metadata": {
        "id": "q5nGrO7CHBwR"
      },
      "source": [
        "## Hàm chuẩn hóa StandardScaler"
      ]
    },
    {
      "cell_type": "code",
      "execution_count": 38,
      "metadata": {
        "id": "-xFC5tF-HFoS"
      },
      "outputs": [],
      "source": [
        "def standard_scaler(df, columns):\n",
        "    # Tính toán mean và standard deviation từ df\n",
        "    mean_values = {col_name: df.select(mean(col_name)).collect()[0][0] for col_name in columns}\n",
        "    std_dev_values = {col_name: df.select(stddev(col_name)).collect()[0][0] for col_name in columns}\n",
        "\n",
        "    # Chuẩn hóa df\n",
        "    for col_name in columns:\n",
        "        mean_val = mean_values[col_name]\n",
        "        std_dev_val = std_dev_values[col_name]\n",
        "        df = df.withColumn(col_name, (df[col_name] - lit(mean_val)) / lit(std_dev_val))\n",
        "\n",
        "    return df"
      ]
    },
    {
      "cell_type": "markdown",
      "metadata": {
        "id": "8VEKfnolXhVo"
      },
      "source": [
        "## One hot encoder"
      ]
    },
    {
      "cell_type": "markdown",
      "metadata": {
        "id": "6CHbxNRaKh9n"
      },
      "source": [
        "## Hàm mã hóa nhị phân các biến phân loại thành số"
      ]
    },
    {
      "cell_type": "code",
      "execution_count": 39,
      "metadata": {
        "id": "EsbT7iyNKytj"
      },
      "outputs": [],
      "source": [
        "def encoder(dataframe, columns):\n",
        "    for col in columns:\n",
        "        indexer = StringIndexer(inputCol=col, outputCol=f\"{col}_encoded\", handleInvalid=\"keep\")\n",
        "        dataframe = indexer.fit(dataframe).transform(dataframe)\n",
        "        dataframe = dataframe.drop(col)\n",
        "        dataframe = dataframe.withColumnRenamed(f\"{col}_encoded\", col)\n",
        "    return dataframe"
      ]
    },
    {
      "cell_type": "markdown",
      "metadata": {
        "id": "_OzRjyMhM9eV"
      },
      "source": [
        "Hàm này sẽ giữ lại các giá trị Null chứ không gán Null thành 1 con số nào đó."
      ]
    },
    {
      "cell_type": "markdown",
      "metadata": {
        "id": "PBAJ0yCUt7Si"
      },
      "source": [
        "# Tiền xử lý"
      ]
    },
    {
      "cell_type": "code",
      "execution_count": 40,
      "metadata": {
        "colab": {
          "base_uri": "https://localhost:8080/"
        },
        "id": "KbeA9zJOJG8N",
        "outputId": "28d22812-0bb7-4f85-d169-9a026fee5287"
      },
      "outputs": [
        {
          "name": "stdout",
          "output_type": "stream",
          "text": [
            "+------+------+------------+---+---------+-------------+---------------+--------------+-----------+\n",
            "|    ID|Gender|Ever_Married|Age|Graduated|   Profession|Work_Experience|Spending_Score|Family_Size|\n",
            "+------+------+------------+---+---------+-------------+---------------+--------------+-----------+\n",
            "|462809|  Male|          No| 22|       No|   Healthcare|            1.0|           Low|        4.0|\n",
            "|462643|Female|         Yes| 38|      Yes|     Engineer|           NULL|       Average|        3.0|\n",
            "|466315|Female|         Yes| 67|      Yes|     Engineer|            1.0|           Low|        1.0|\n",
            "|461735|  Male|         Yes| 67|      Yes|       Lawyer|            0.0|          High|        2.0|\n",
            "|462669|Female|         Yes| 40|      Yes|Entertainment|           NULL|          High|        6.0|\n",
            "|461319|  Male|         Yes| 56|       No|       Artist|            0.0|       Average|        2.0|\n",
            "|460156|  Male|          No| 32|      Yes|   Healthcare|            1.0|           Low|        3.0|\n",
            "|464347|Female|          No| 33|      Yes|   Healthcare|            1.0|           Low|        3.0|\n",
            "|465015|Female|         Yes| 61|      Yes|     Engineer|            0.0|           Low|        3.0|\n",
            "|465176|Female|         Yes| 55|      Yes|       Artist|            1.0|       Average|        4.0|\n",
            "|464041|Female|          No| 26|      Yes|     Engineer|            1.0|           Low|        3.0|\n",
            "|464942|  Male|          No| 19|       No|   Healthcare|            4.0|           Low|        4.0|\n",
            "|461230|Female|          No| 19|       No|    Executive|            0.0|           Low|       NULL|\n",
            "|459573|  Male|         Yes| 70|       No|       Lawyer|           NULL|           Low|        1.0|\n",
            "|460849|Female|         Yes| 58|       No|       Doctor|            0.0|           Low|        1.0|\n",
            "|460563|Female|          No| 41|       No|   Healthcare|            1.0|           Low|        2.0|\n",
            "|466865|Female|          No| 32|       No|    Homemaker|            9.0|           Low|        5.0|\n",
            "|461644|  Male|          No| 31|       No|   Healthcare|            1.0|           Low|        6.0|\n",
            "|466772|  Male|         Yes| 58|      Yes|Entertainment|            1.0|       Average|        4.0|\n",
            "|464291|Female|         Yes| 79|      Yes|       Artist|            0.0|          High|        1.0|\n",
            "+------+------+------------+---+---------+-------------+---------------+--------------+-----------+\n",
            "only showing top 20 rows\n",
            "\n"
          ]
        }
      ],
      "source": [
        "df.show()"
      ]
    },
    {
      "cell_type": "markdown",
      "metadata": {
        "id": "tKOJnBnTJauE"
      },
      "source": [
        "## Xóa dữ liệu trùng lặp"
      ]
    },
    {
      "cell_type": "code",
      "execution_count": 41,
      "metadata": {
        "colab": {
          "base_uri": "https://localhost:8080/"
        },
        "id": "uQAGoMr18Cf7",
        "outputId": "5e192679-ffb2-4b30-ff80-583743c55e6f"
      },
      "outputs": [
        {
          "name": "stdout",
          "output_type": "stream",
          "text": [
            "DataFrame  (10695, 9)\n"
          ]
        }
      ],
      "source": [
        "print(\"DataFrame \", (df.count(), len(df.columns)))"
      ]
    },
    {
      "cell_type": "code",
      "execution_count": 42,
      "metadata": {
        "id": "ijiQWD2wJdcp"
      },
      "outputs": [],
      "source": [
        "df = df.dropDuplicates() # dùng để xóa các mẫu dữ liệu trùng lập với nhau trong tập train"
      ]
    },
    {
      "cell_type": "code",
      "execution_count": 43,
      "metadata": {
        "colab": {
          "base_uri": "https://localhost:8080/"
        },
        "id": "muqO96LUfUNj",
        "outputId": "a162a5c4-b588-479a-a07f-24deaf562456"
      },
      "outputs": [
        {
          "name": "stdout",
          "output_type": "stream",
          "text": [
            "DataFrame  (10559, 9)\n"
          ]
        }
      ],
      "source": [
        "print(\"DataFrame \", (df.count(), len(df.columns)))"
      ]
    },
    {
      "cell_type": "markdown",
      "metadata": {
        "id": "nAEPQEIVLI0h"
      },
      "source": [
        "## Mã hóa các biến phân loại thành số"
      ]
    },
    {
      "cell_type": "code",
      "execution_count": 44,
      "metadata": {
        "id": "YIN3Pmf0w6wm"
      },
      "outputs": [],
      "source": [
        "# Tính giá trị xuất hiện nhiều nhất trong cột \"Profession\" của tập train\n",
        "numeric_columns = [\"Profession\"]\n",
        "mode_value_train = calculate_mode(df, 'Profession')\n",
        "\n",
        "# Điền các giá trị bị thiếu trong cột \"Profession\" của tập train bằng giá trị xuất hiện nhiều nhất\n",
        "df = df.na.fill({column: mode_value_train for column in numeric_columns})"
      ]
    },
    {
      "cell_type": "code",
      "execution_count": 45,
      "metadata": {
        "id": "kNDK37IfX6JT"
      },
      "outputs": [],
      "source": [
        "# Định nghĩa các cột phân loại cho cả tập train và tập test\n",
        "categorical_columns = [\"Profession\", \"Spending_Score\"]"
      ]
    },
    {
      "cell_type": "code",
      "execution_count": 47,
      "metadata": {
        "id": "dTLFCCWwiPFD"
      },
      "outputs": [],
      "source": [
        "profession_mapping = {\n",
        "    \"Artist\": 1,\n",
        "    \"Healthcare\": 2,\n",
        "    \"Entertainment\": 3,\n",
        "    \"Engineer\": 4,\n",
        "    \"Doctor\": 5,\n",
        "    \"Lawyer\": 6,\n",
        "    \"Executive\": 7,\n",
        "    \"Marketing\": 8,\n",
        "    \"Homemaker\": 9\n",
        "}\n",
        "\n",
        "df = df.withColumn(\n",
        "    \"Profession\",\n",
        "    when(df[\"Profession\"] == \"Artist\", profession_mapping['Artist'])\n",
        "    .when(df[\"Profession\"] == \"Healthcare\", profession_mapping['Healthcare'])\n",
        "    .when(df[\"Profession\"] == \"Entertainment\", profession_mapping['Entertainment'])\n",
        "    .when(df[\"Profession\"] == \"Engineer\", profession_mapping['Engineer'])\n",
        "    .when(df[\"Profession\"] == \"Doctor\", profession_mapping['Doctor'])\n",
        "    .when(df[\"Profession\"] == \"Lawyer\", profession_mapping['Lawyer'])\n",
        "    .when(df[\"Profession\"] == \"Executive\", profession_mapping['Executive'])\n",
        "    .when(df[\"Profession\"] == \"Marketing\", profession_mapping['Marketing'])\n",
        "    .when(df[\"Profession\"] == \"Homemaker\", profession_mapping['Homemaker'])\n",
        "    .otherwise(None)\n",
        ")"
      ]
    },
    {
      "cell_type": "code",
      "execution_count": 48,
      "metadata": {
        "colab": {
          "base_uri": "https://localhost:8080/",
          "height": 174
        },
        "id": "LxRcqS6uYQlS",
        "outputId": "8991e4a0-4083-4a58-ceb4-8fea1acf7ad2"
      },
      "outputs": [
        {
          "data": {
            "application/vnd.google.colaboratory.intrinsic+json": {
              "type": "string"
            },
            "text/plain": [
              "'# Tạo danh sách các bước của Pipeline cho từng cột phân loại trong categorical_columns\\nstages = []\\nfor col in categorical_columns:\\n    # Bước 1: Sử dụng StringIndexer để chuyển đổi các giá trị phân loại thành các chỉ số số\\n    string_indexer = StringIndexer(inputCol=col, outputCol=col + \"_index\", handleInvalid=\"skip\")\\n    # Bước 2: Sử dụng OneHotEncoder để mã hóa các chỉ số số thành vector nhị phân\\n    one_hot_encoder = OneHotEncoder(inputCol=col + \"_index\", outputCol=col + \"_encoded\")\\n    stages += [string_indexer, one_hot_encoder]\\n\\n# Xây dựng Pipeline\\npipeline = Pipeline(stages=stages)\\n\\n# Áp dụng Pipeline cho DataFrame\\npipeline_model = pipeline.fit(df)\\n# Transform cả tập train và tập test bằng pipeline đã fit\\ndf = pipeline_model.transform(df)\\n\\n# Xóa các cột phân loại gốc và các cột chỉ số số tạm thời cho categorical_columns\\nfor col in categorical_columns:\\n    df = df.drop(col).drop(col + \"_index\")\\n\\n# Đổi tên các cột đã mã hóa về tên gốc cho categorical_columns\\nfor col in categorical_columns:\\n    df = df.withColumnRenamed(col + \"_encoded\", col)'"
            ]
          },
          "execution_count": 48,
          "metadata": {},
          "output_type": "execute_result"
        }
      ],
      "source": [
        "\"\"\"# Tạo danh sách các bước của Pipeline cho từng cột phân loại trong categorical_columns\n",
        "stages = []\n",
        "for col in categorical_columns:\n",
        "    # Bước 1: Sử dụng StringIndexer để chuyển đổi các giá trị phân loại thành các chỉ số số\n",
        "    string_indexer = StringIndexer(inputCol=col, outputCol=col + \"_index\", handleInvalid=\"skip\")\n",
        "    # Bước 2: Sử dụng OneHotEncoder để mã hóa các chỉ số số thành vector nhị phân\n",
        "    one_hot_encoder = OneHotEncoder(inputCol=col + \"_index\", outputCol=col + \"_encoded\")\n",
        "    stages += [string_indexer, one_hot_encoder]\n",
        "\n",
        "# Xây dựng Pipeline\n",
        "pipeline = Pipeline(stages=stages)\n",
        "\n",
        "# Áp dụng Pipeline cho DataFrame\n",
        "pipeline_model = pipeline.fit(df)\n",
        "# Transform cả tập train và tập test bằng pipeline đã fit\n",
        "df = pipeline_model.transform(df)\n",
        "\n",
        "# Xóa các cột phân loại gốc và các cột chỉ số số tạm thời cho categorical_columns\n",
        "for col in categorical_columns:\n",
        "    df = df.drop(col).drop(col + \"_index\")\n",
        "\n",
        "# Đổi tên các cột đã mã hóa về tên gốc cho categorical_columns\n",
        "for col in categorical_columns:\n",
        "    df = df.withColumnRenamed(col + \"_encoded\", col)\"\"\""
      ]
    },
    {
      "cell_type": "code",
      "execution_count": 49,
      "metadata": {
        "colab": {
          "base_uri": "https://localhost:8080/"
        },
        "id": "osrF8wqkYrVE",
        "outputId": "c77da7ff-4bbf-4481-88fb-1174acd70bd1"
      },
      "outputs": [
        {
          "name": "stdout",
          "output_type": "stream",
          "text": [
            "+------+------+------------+---+---------+----------+---------------+--------------+-----------+\n",
            "|    ID|Gender|Ever_Married|Age|Graduated|Profession|Work_Experience|Spending_Score|Family_Size|\n",
            "+------+------+------------+---+---------+----------+---------------+--------------+-----------+\n",
            "|462809|  Male|          No| 22|       No|         2|            1.0|             0|        4.0|\n",
            "|460666|Female|         Yes| 49|      Yes|         9|           14.0|             0|        1.0|\n",
            "|463622|  Male|          No| 27|      Yes|         2|            8.0|             0|        1.0|\n",
            "|467826|  Male|          No| 18|       No|         2|            0.0|             0|        6.0|\n",
            "|462040|  Male|          No| 19|       No|         2|            5.0|             0|        4.0|\n",
            "|467926|  Male|         Yes| 79|      Yes|         1|            0.0|             2|        2.0|\n",
            "|467761|  Male|          No| 39|      Yes|         1|            1.0|             0|        2.0|\n",
            "|459076|  Male|         Yes| 69|       No|         5|            0.0|             1|        2.0|\n",
            "|465694|  Male|         Yes| 37|      Yes|         2|            1.0|             1|        2.0|\n",
            "|459117|  Male|         Yes| 66|      Yes|         1|            1.0|             2|        2.0|\n",
            "|466312|Female|          No| 21|       No|         2|            0.0|             0|        3.0|\n",
            "|464960|Female|          No| 22|       No|         2|            0.0|             0|        5.0|\n",
            "|459662|  Male|         Yes| 51|      Yes|         3|            0.0|             2|        5.0|\n",
            "|464808|  Male|         Yes| 42|       No|         3|            1.0|             0|        4.0|\n",
            "|460229|Female|         Yes| 68|      Yes|         6|            2.0|             2|        2.0|\n",
            "|463634|Female|          No| 30|      Yes|         5|            0.0|             0|        3.0|\n",
            "|467877|Female|         Yes| 46|      Yes|         1|            0.0|             1|        2.0|\n",
            "|460962|  Male|         Yes| 55|      Yes|         7|            9.0|             2|        4.0|\n",
            "|459784|Female|         Yes| 52|      Yes|         4|            0.0|             2|        5.0|\n",
            "|465783|  Male|          No| 23|       No|         2|            1.0|             0|        5.0|\n",
            "+------+------+------------+---+---------+----------+---------------+--------------+-----------+\n",
            "only showing top 20 rows\n",
            "\n"
          ]
        }
      ],
      "source": [
        "df.show()"
      ]
    },
    {
      "cell_type": "markdown",
      "metadata": {
        "id": "e7J__bnscEVX"
      },
      "source": [
        "### Mã hóa nhị phân"
      ]
    },
    {
      "cell_type": "code",
      "execution_count": 50,
      "metadata": {
        "id": "8D3QjJGnXRrm"
      },
      "outputs": [],
      "source": [
        "# Định nghĩa các cột phân loại cho cả tập train và tập test\n",
        "categorical_columns = [\"Gender\", \"Ever_Married\", \"Graduated\"]"
      ]
    },
    {
      "cell_type": "code",
      "execution_count": 51,
      "metadata": {
        "id": "VTtF5n2Miwgh"
      },
      "outputs": [],
      "source": [
        "# Sử dụng phương thức when để thực hiện mã hóa\n",
        "df = df.withColumn(\"Gender\", when(df[\"Gender\"] == \"Male\", 0).otherwise(1))"
      ]
    },
    {
      "cell_type": "code",
      "execution_count": 52,
      "metadata": {
        "id": "8FdDVFXgmn5b"
      },
      "outputs": [],
      "source": [
        "from pyspark.sql.functions import when, col\n",
        "# Sử dụng phương thức when để thực hiện mã hóa, giữ nguyên giá trị null\n",
        "df = df.withColumn(\n",
        "    \"Ever_Married\",\n",
        "    when(col(\"Ever_Married\") == \"Yes\", 1)\n",
        "    .when(col(\"Ever_Married\") == \"No\", 0)\n",
        "    .otherwise(col(\"Ever_Married\"))\n",
        ")"
      ]
    },
    {
      "cell_type": "code",
      "execution_count": 53,
      "metadata": {
        "id": "QjDBe_N5n6aW"
      },
      "outputs": [],
      "source": [
        "from pyspark.sql.functions import when, col\n",
        "# Sử dụng phương thức when để thực hiện mã hóa, giữ nguyên giá trị null\n",
        "df = df.withColumn(\n",
        "    \"Graduated\",\n",
        "    when(col(\"Graduated\") == \"Yes\", 1)\n",
        "    .when(col(\"Graduated\") == \"No\", 0)\n",
        "    .otherwise(col(\"Graduated\"))\n",
        ")"
      ]
    },
    {
      "cell_type": "code",
      "execution_count": 54,
      "metadata": {
        "colab": {
          "base_uri": "https://localhost:8080/"
        },
        "id": "AbBhlzkRnz1y",
        "outputId": "4fc30a05-4b13-4f38-d891-87ad2878b001"
      },
      "outputs": [
        {
          "name": "stdout",
          "output_type": "stream",
          "text": [
            "Thống kê giá trị Null trong tập DataFrame:\n",
            "--------------------\n",
            " - 'Ever_Married': 185 giá trị Null.\n",
            " - 'Graduated': 99 giá trị Null.\n",
            " - 'Work_Experience': 1068 giá trị Null.\n",
            " - 'Family_Size': 442 giá trị Null.\n"
          ]
        }
      ],
      "source": [
        "# Tạo một danh sách chứa các tên cột và số lượng giá trị bị thiếu tương ứng\n",
        "missing_values = []\n",
        "\n",
        "# Lặp qua các cột trong DataFrame\n",
        "for col in df.columns:\n",
        "    # Tính tổng số giá trị bị thiếu trong cột và thêm vào danh sách\n",
        "    missing_count = df.filter(df[col].isNull()).count()\n",
        "    missing_values.append((col, missing_count))\n",
        "# Hiển thị kết quả\n",
        "print(\"Thống kê giá trị Null trong tập DataFrame:\\n\" + \"-\"*20)\n",
        "for col, missing_count in missing_values:\n",
        "    if missing_count != 0:\n",
        "        print(f\" - '{col}': {missing_count} giá trị Null.\")\n"
      ]
    },
    {
      "cell_type": "code",
      "execution_count": 55,
      "metadata": {
        "colab": {
          "base_uri": "https://localhost:8080/"
        },
        "id": "rrGTCB6LkI88",
        "outputId": "236aeb1a-5f0d-4079-f043-b7d00427ad72"
      },
      "outputs": [
        {
          "name": "stdout",
          "output_type": "stream",
          "text": [
            "+------+------+------------+---+---------+----------+---------------+--------------+-----------+\n",
            "|    ID|Gender|Ever_Married|Age|Graduated|Profession|Work_Experience|Spending_Score|Family_Size|\n",
            "+------+------+------------+---+---------+----------+---------------+--------------+-----------+\n",
            "|462809|     0|           0| 22|        0|         2|            1.0|             0|        4.0|\n",
            "|460666|     1|           1| 49|        1|         9|           14.0|             0|        1.0|\n",
            "|463622|     0|           0| 27|        1|         2|            8.0|             0|        1.0|\n",
            "|467826|     0|           0| 18|        0|         2|            0.0|             0|        6.0|\n",
            "|462040|     0|           0| 19|        0|         2|            5.0|             0|        4.0|\n",
            "|467926|     0|           1| 79|        1|         1|            0.0|             2|        2.0|\n",
            "|467761|     0|           0| 39|        1|         1|            1.0|             0|        2.0|\n",
            "|459076|     0|           1| 69|        0|         5|            0.0|             1|        2.0|\n",
            "|465694|     0|           1| 37|        1|         2|            1.0|             1|        2.0|\n",
            "|459117|     0|           1| 66|        1|         1|            1.0|             2|        2.0|\n",
            "|466312|     1|           0| 21|        0|         2|            0.0|             0|        3.0|\n",
            "|464960|     1|           0| 22|        0|         2|            0.0|             0|        5.0|\n",
            "|459662|     0|           1| 51|        1|         3|            0.0|             2|        5.0|\n",
            "|464808|     0|           1| 42|        0|         3|            1.0|             0|        4.0|\n",
            "|460229|     1|           1| 68|        1|         6|            2.0|             2|        2.0|\n",
            "|463634|     1|           0| 30|        1|         5|            0.0|             0|        3.0|\n",
            "|467877|     1|           1| 46|        1|         1|            0.0|             1|        2.0|\n",
            "|460962|     0|           1| 55|        1|         7|            9.0|             2|        4.0|\n",
            "|459784|     1|           1| 52|        1|         4|            0.0|             2|        5.0|\n",
            "|465783|     0|           0| 23|        0|         2|            1.0|             0|        5.0|\n",
            "+------+------+------------+---+---------+----------+---------------+--------------+-----------+\n",
            "only showing top 20 rows\n",
            "\n"
          ]
        }
      ],
      "source": [
        "df.show()"
      ]
    },
    {
      "cell_type": "markdown",
      "metadata": {
        "id": "EqjnJj3HOCws"
      },
      "source": [
        "## Chuẩn hóa một số cột"
      ]
    },
    {
      "cell_type": "markdown",
      "metadata": {
        "id": "nI4Lx83AOF6o"
      },
      "source": [
        "Các cột được chuẩn hóa theo StandardScaler: \"Age\", \"Work_Experience\", \"Family_Size\"."
      ]
    },
    {
      "cell_type": "code",
      "execution_count": 56,
      "metadata": {
        "id": "Quk3ijXuOP7b"
      },
      "outputs": [],
      "source": [
        "# Các cột cần chuẩn hóa\n",
        "columns_to_scale = ['Age', 'Work_Experience', 'Family_Size']"
      ]
    },
    {
      "cell_type": "code",
      "execution_count": 57,
      "metadata": {
        "id": "VqYPm0yshWMo"
      },
      "outputs": [],
      "source": [
        "# Áp dụng hàm standard_scaler\n",
        "df = standard_scaler(df, columns_to_scale)"
      ]
    },
    {
      "cell_type": "code",
      "execution_count": 58,
      "metadata": {
        "colab": {
          "base_uri": "https://localhost:8080/"
        },
        "id": "j50WQo5whZk7",
        "outputId": "074e0a92-aee0-4d53-b7e6-20d4cf2839aa"
      },
      "outputs": [
        {
          "name": "stdout",
          "output_type": "stream",
          "text": [
            "+------+------+------------+--------------------+---------+----------+--------------------+--------------+-------------------+\n",
            "|    ID|Gender|Ever_Married|                 Age|Graduated|Profession|     Work_Experience|Spending_Score|        Family_Size|\n",
            "+------+------+------------+--------------------+---------+----------+--------------------+--------------+-------------------+\n",
            "|462809|     0|           0| -1.2837627107909002|        0|         2| -0.4790680244349246|             0| 0.7505623307375167|\n",
            "|460666|     1|           1| 0.32664871242027155|        1|         9|  3.3512099731580194|             0|-1.1996403317241193|\n",
            "|463622|     0|           0| -0.9855383731592018|        1|         2|  1.5833893588843526|             0|-1.1996403317241193|\n",
            "|467826|     0|           0|  -1.522342180896259|        0|         2| -0.7737047934805356|             0|  2.050697439045274|\n",
            "|462040|     0|           0| -1.4626973133699193|        0|         2|  0.6994790517475196|             0| 0.7505623307375167|\n",
            "|467926|     0|           1|  2.1159947382104622|        1|         1| -0.7737047934805356|             2|-0.5495727775702406|\n",
            "|467761|     0|           0| -0.2697999628431254|        1|         1| -0.4790680244349246|             0|-0.5495727775702406|\n",
            "|459076|     0|           1|  1.5195460629470654|        0|         5| -0.7737047934805356|             1|-0.5495727775702406|\n",
            "|465694|     0|           1|-0.38908969789580483|        1|         2| -0.4790680244349246|             1|-0.5495727775702406|\n",
            "|459117|     0|           1|  1.3406114603680463|        1|         1| -0.4790680244349246|             2|-0.5495727775702406|\n",
            "|466312|     1|           0|   -1.34340757831724|        0|         2| -0.7737047934805356|             0|0.10049477658363802|\n",
            "|464960|     1|           0| -1.2837627107909002|        0|         2| -0.7737047934805356|             0| 1.4006298848913952|\n",
            "|459662|     0|           1|  0.4459384474729509|        1|         3| -0.7737047934805356|             2| 1.4006298848913952|\n",
            "|464808|     0|           1|-0.09086536026410633|        0|         3| -0.4790680244349246|             0| 0.7505623307375167|\n",
            "|460229|     1|           1|  1.4599011954207257|        1|         6|-0.18443125538931351|             2|-0.5495727775702406|\n",
            "|463634|     1|           0| -0.8066037705801827|        1|         5| -0.7737047934805356|             0|0.10049477658363802|\n",
            "|467877|     1|           1| 0.14771410984125244|        1|         1| -0.7737047934805356|             1|-0.5495727775702406|\n",
            "|460962|     0|           1|  0.6845179175783097|        1|         7|  1.8780261279299637|             2| 0.7505623307375167|\n",
            "|459784|     1|           1|  0.5055833149992907|        1|         4| -0.7737047934805356|             2| 1.4006298848913952|\n",
            "|465783|     0|           0| -1.2241178432645605|        0|         2| -0.4790680244349246|             0| 1.4006298848913952|\n",
            "+------+------+------------+--------------------+---------+----------+--------------------+--------------+-------------------+\n",
            "only showing top 20 rows\n",
            "\n"
          ]
        }
      ],
      "source": [
        "# Hiển thị kết quả\n",
        "df.show()"
      ]
    },
    {
      "cell_type": "markdown",
      "metadata": {
        "id": "moBEUEt3huZL"
      },
      "source": [
        "## Xử lý giá trị Null"
      ]
    },
    {
      "cell_type": "markdown",
      "metadata": {
        "id": "-FdbZ8NnwTTi"
      },
      "source": [
        "Các cột 'Age', 'Work_Experience', 'Family_Size' thì thay Null thành mean() tương ứng của nó bởi hàm calculate_mean()\n"
      ]
    },
    {
      "cell_type": "code",
      "execution_count": 59,
      "metadata": {
        "id": "EuQERTyjh4CO"
      },
      "outputs": [],
      "source": [
        "numeric_columns = ['Age', 'Work_Experience', 'Family_Size'] # Nhóm đầu tiên gồm 3 cột: 'Age', 'Work_Experience', 'Family_Size' sẽ được thay thế các giá trị Null thành giá trị trung bình tương ứng của cột\n",
        "\n",
        "for column in numeric_columns:\n",
        "    mean_value = calculate_mean(df, column)  # Tính giá trị trung bình từng cột của df\n",
        "    df = df.na.fill({column: mean_value}) # Điền những giá trị bị thiếu trong các cột trên thành giá trị trung bình"
      ]
    },
    {
      "cell_type": "markdown",
      "metadata": {
        "id": "ZnLBcQ2ownCR"
      },
      "source": [
        "Các cột 'Gender', 'Ever_Married', 'Graduated', 'Profession', 'Segmentation' thay giá trị Null thành mode() của nó bởi hàm calculate_mode()."
      ]
    },
    {
      "cell_type": "code",
      "execution_count": 60,
      "metadata": {
        "id": "ZPomZtkZi4FW"
      },
      "outputs": [],
      "source": [
        "numeric_columns = ['Ever_Married', 'Graduated']\n",
        "# Các cột mà điền Null thành giá trị xuất hiện nhiều nhất trong cột\n",
        "for column in numeric_columns:\n",
        "    mode_value = calculate_mode(df, column) # Tính giá trị xuất hiện nhiều nhất trong df của các cột trên\n",
        "    df = df.na.fill({column: mode_value}) # Điền các giá trị bị thiếu trong tập thành giá trị xuất hiện nhiều nhất trong cột tương ứng"
      ]
    },
    {
      "cell_type": "code",
      "execution_count": 61,
      "metadata": {
        "colab": {
          "base_uri": "https://localhost:8080/"
        },
        "id": "wWeDHf1axUpK",
        "outputId": "67a34937-9c1a-4c02-84ab-82cc739924f0"
      },
      "outputs": [
        {
          "name": "stdout",
          "output_type": "stream",
          "text": [
            "+------+------+------------+--------------------+---------+----------+--------------------+--------------+-------------------+\n",
            "|    ID|Gender|Ever_Married|                 Age|Graduated|Profession|     Work_Experience|Spending_Score|        Family_Size|\n",
            "+------+------+------------+--------------------+---------+----------+--------------------+--------------+-------------------+\n",
            "|462809|     0|           0| -1.2837627107909002|        0|         2| -0.4790680244349246|             0| 0.7505623307375167|\n",
            "|460666|     1|           1| 0.32664871242027155|        1|         9|  3.3512099731580194|             0|-1.1996403317241193|\n",
            "|463622|     0|           0| -0.9855383731592018|        1|         2|  1.5833893588843526|             0|-1.1996403317241193|\n",
            "|467826|     0|           0|  -1.522342180896259|        0|         2| -0.7737047934805356|             0|  2.050697439045274|\n",
            "|462040|     0|           0| -1.4626973133699193|        0|         2|  0.6994790517475196|             0| 0.7505623307375167|\n",
            "|467926|     0|           1|  2.1159947382104622|        1|         1| -0.7737047934805356|             2|-0.5495727775702406|\n",
            "|467761|     0|           0| -0.2697999628431254|        1|         1| -0.4790680244349246|             0|-0.5495727775702406|\n",
            "|459076|     0|           1|  1.5195460629470654|        0|         5| -0.7737047934805356|             1|-0.5495727775702406|\n",
            "|465694|     0|           1|-0.38908969789580483|        1|         2| -0.4790680244349246|             1|-0.5495727775702406|\n",
            "|459117|     0|           1|  1.3406114603680463|        1|         1| -0.4790680244349246|             2|-0.5495727775702406|\n",
            "|466312|     1|           0|   -1.34340757831724|        0|         2| -0.7737047934805356|             0|0.10049477658363802|\n",
            "|464960|     1|           0| -1.2837627107909002|        0|         2| -0.7737047934805356|             0| 1.4006298848913952|\n",
            "|459662|     0|           1|  0.4459384474729509|        1|         3| -0.7737047934805356|             2| 1.4006298848913952|\n",
            "|464808|     0|           1|-0.09086536026410633|        0|         3| -0.4790680244349246|             0| 0.7505623307375167|\n",
            "|460229|     1|           1|  1.4599011954207257|        1|         6|-0.18443125538931351|             2|-0.5495727775702406|\n",
            "|463634|     1|           0| -0.8066037705801827|        1|         5| -0.7737047934805356|             0|0.10049477658363802|\n",
            "|467877|     1|           1| 0.14771410984125244|        1|         1| -0.7737047934805356|             1|-0.5495727775702406|\n",
            "|460962|     0|           1|  0.6845179175783097|        1|         7|  1.8780261279299637|             2| 0.7505623307375167|\n",
            "|459784|     1|           1|  0.5055833149992907|        1|         4| -0.7737047934805356|             2| 1.4006298848913952|\n",
            "|465783|     0|           0| -1.2241178432645605|        0|         2| -0.4790680244349246|             0| 1.4006298848913952|\n",
            "+------+------+------------+--------------------+---------+----------+--------------------+--------------+-------------------+\n",
            "only showing top 20 rows\n",
            "\n"
          ]
        }
      ],
      "source": [
        "df.show()"
      ]
    },
    {
      "cell_type": "code",
      "execution_count": 62,
      "metadata": {
        "colab": {
          "base_uri": "https://localhost:8080/"
        },
        "id": "SXXU3uDZ7Fbd",
        "outputId": "a25ff259-ba19-484c-b19a-a6da41a4e8fb"
      },
      "outputs": [
        {
          "name": "stdout",
          "output_type": "stream",
          "text": [
            "Thống kê giá trị Null trong tập DataFrame:\n",
            "--------------------\n"
          ]
        }
      ],
      "source": [
        "# Tạo một danh sách chứa các tên cột và số lượng giá trị bị thiếu tương ứng\n",
        "missing_values = []\n",
        "\n",
        "# Lặp qua các cột trong DataFrame\n",
        "for col in df.columns:\n",
        "    # Tính tổng số giá trị bị thiếu trong cột và thêm vào danh sách\n",
        "    missing_count = df.filter(df[col].isNull()).count()\n",
        "    missing_values.append((col, missing_count))\n",
        "# Hiển thị kết quả\n",
        "print(\"Thống kê giá trị Null trong tập DataFrame:\\n\" + \"-\"*20)\n",
        "for col, missing_count in missing_values:\n",
        "    if missing_count != 0:\n",
        "        print(f\" - '{col}': {missing_count} giá trị Null.\")"
      ]
    },
    {
      "cell_type": "markdown",
      "metadata": {
        "id": "qBlXThz24AMh"
      },
      "source": [
        "**Nhận xét:** Không có cột nào được in ra vì không có cột nào chứa giá trị Null nữa."
      ]
    },
    {
      "cell_type": "code",
      "execution_count": 63,
      "metadata": {
        "id": "ohX9fmnS1sfL"
      },
      "outputs": [],
      "source": [
        "import pandas as pd\n",
        "\n",
        "# Chuyển đổi Spark DataFrame sang Pandas DataFrame\n",
        "df= df.toPandas()\n",
        "\n",
        "df.to_csv('customer_data.csv', index=False)"
      ]
    },
    {
      "cell_type": "code",
      "execution_count": 63,
      "metadata": {
        "id": "3tJbU6fo3-yh"
      },
      "outputs": [],
      "source": []
    }
  ],
  "metadata": {
    "colab": {
      "provenance": [],
      "toc_visible": true
    },
    "kernelspec": {
      "display_name": "Python 3",
      "name": "python3"
    },
    "language_info": {
      "name": "python"
    }
  },
  "nbformat": 4,
  "nbformat_minor": 0
}
